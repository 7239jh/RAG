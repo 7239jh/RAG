{
 "cells": [
  {
   "cell_type": "code",
   "execution_count": 9,
   "metadata": {},
   "outputs": [],
   "source": [
    "import chromadb\n",
    "from sentence_transformers import SentenceTransformer\n",
    "model = SentenceTransformer('snunlp/KR-SBERT-V40K-klueNLI-augSTS')\n",
    "client = chromadb.PersistentClient(path='D:/')"
   ]
  },
  {
   "cell_type": "code",
   "execution_count": 12,
   "metadata": {},
   "outputs": [],
   "source": [
    "collection = client.get_or_create_collection(\n",
    "    name=\"test\"\n",
    ")"
   ]
  },
  {
   "cell_type": "code",
   "execution_count": 11,
   "metadata": {},
   "outputs": [],
   "source": [
    "import pandas as pd\n",
    "from tqdm import tqdm\n",
    "\n",
    "\n",
    "df = pd.read_csv(\"D:/exdata.csv\")\n",
    "\n",
    "df=df[:1000]\n"
   ]
  },
  {
   "cell_type": "code",
   "execution_count": 13,
   "metadata": {},
   "outputs": [
    {
     "name": "stderr",
     "output_type": "stream",
     "text": [
      "1000it [00:32, 30.87it/s]\n"
     ]
    }
   ],
   "source": [
    "ids = []\n",
    "metadatas = []\n",
    "embeddings = []\n",
    "\n",
    "for row in tqdm(df.iterrows()):\n",
    "    index = row[0]\n",
    "    query = row[1].Q\n",
    "    answer = row[1].A\n",
    "    \n",
    "    \n",
    "    metadata = {\n",
    "        \"query\": query,\n",
    "        \"answer\": answer\n",
    "    }\n",
    "    \n",
    "    embedding = model.encode(query, normalize_embeddings=True)\n",
    "    \n",
    "    ids.append(str(index))\n",
    "    metadatas.append(metadata)\n",
    "    embeddings.append(embedding)\n",
    "embeddings = [ e.tolist() for e in embeddings]\n",
    "collection.add(embeddings=embeddings, ids=ids, metadatas=metadatas)         "
   ]
  },
  {
   "cell_type": "code",
   "execution_count": 14,
   "metadata": {},
   "outputs": [
    {
     "name": "stdout",
     "output_type": "stream",
     "text": [
      "{'ids': [['344', '343', '345']], 'distances': [[0.6046340465545654, 0.6892774105072021, 0.742411732673645]], 'metadatas': [[{'answer': '아이를 금수저로 만들어주세요.', 'query': '금수저로 태어났으면'}, {'answer': '뭔가 안풀리는 일이 있나봐요.', 'query': '금수저 물고 태어나면 좋겠지?'}, {'answer': '아이를 금수저로 만들어주세요.', 'query': '금수저로 태어났으면 좋았을텐데'}]], 'embeddings': None, 'documents': [[None, None, None]], 'uris': None, 'data': None}\n"
     ]
    }
   ],
   "source": [
    "result = collection.query(\n",
    "    query_embeddings=model.encode(\"금수저 부럽다\", normalize_embeddings=True).tolist(),\n",
    "    n_results=3\n",
    ")\n",
    "print(result)"
   ]
  },
  {
   "cell_type": "code",
   "execution_count": 15,
   "metadata": {},
   "outputs": [
    {
     "name": "stdout",
     "output_type": "stream",
     "text": [
      "아이를 금수저로 만들어주세요.\n",
      "뭔가 안풀리는 일이 있나봐요.\n",
      "아이를 금수저로 만들어주세요.\n"
     ]
    }
   ],
   "source": [
    "for i in result['metadatas'][0]:\n",
    "    print(i['answer'])"
   ]
  }
 ],
 "metadata": {
  "kernelspec": {
   "display_name": "py3.10",
   "language": "python",
   "name": "py3.10"
  },
  "language_info": {
   "codemirror_mode": {
    "name": "ipython",
    "version": 3
   },
   "file_extension": ".py",
   "mimetype": "text/x-python",
   "name": "python",
   "nbconvert_exporter": "python",
   "pygments_lexer": "ipython3",
   "version": "3.10.13"
  }
 },
 "nbformat": 4,
 "nbformat_minor": 2
}
